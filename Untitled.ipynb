{
 "cells": [
  {
   "cell_type": "code",
   "execution_count": 1,
   "id": "72222cd1-fd35-46fa-95f2-a7a6f5f28d72",
   "metadata": {},
   "outputs": [],
   "source": [
    "# Cell 1: Import necessary libraries\n",
    "import numpy as np\n",
    "import pandas as pd\n",
    "from sklearn.ensemble import RandomForestClassifier, IsolationForest\n",
    "from xgboost import XGBClassifier\n",
    "from lightgbm import LGBMClassifier\n",
    "from sklearn.metrics import classification_report, confusion_matrix\n",
    "from sklearn.preprocessing import StandardScaler, LabelEncoder\n",
    "from sklearn.model_selection import train_test_split\n",
    "import seaborn as sns\n",
    "import matplotlib.pyplot as plt\n",
    "from tensorflow import keras\n",
    "import joblib\n",
    "import hashlib\n",
    "import os\n",
    "import random\n",
    "from faker import Faker"
   ]
  },
  {
   "cell_type": "code",
   "execution_count": 2,
   "id": "11f91c6c-f42c-48e0-9cb9-aab091d95232",
   "metadata": {},
   "outputs": [],
   "source": [
    "# Cell 2: Initialize Faker for generating random user names\n",
    "fake = Faker()\n"
   ]
  },
  {
   "cell_type": "code",
   "execution_count": 3,
   "id": "bd649ddf-70a6-4a40-89ad-3f2ab2b14460",
   "metadata": {},
   "outputs": [],
   "source": [
    "# Cell 3: Function to hash IP addresses to anonymize them\n",
    "def hash_ip(ip_address):\n",
    "    return int(hashlib.sha256(ip_address.encode('utf-8')).hexdigest(), 16) % 10**8\n"
   ]
  },
  {
   "cell_type": "code",
   "execution_count": 4,
   "id": "2bc73947-5c36-42d7-8c24-c87eb1b16e88",
   "metadata": {},
   "outputs": [],
   "source": [
    "# Cell 4: Function to generate random transaction dates over the last year\n",
    "def generate_random_dates(n_samples, start_date='2023-01-01', end_date='2024-01-01'):\n",
    "    start = pd.to_datetime(start_date)\n",
    "    end = pd.to_datetime(end_date)\n",
    "    return [start + (end - start) * random.random() for _ in range(n_samples)]"
   ]
  },
  {
   "cell_type": "code",
   "execution_count": 5,
   "id": "65946395-53fc-4c61-b559-cff045ce80d2",
   "metadata": {},
   "outputs": [],
   "source": [
    "# Cell 5: Function to generate synthetic data, including IP addresses, transaction IDs, dates, and user names\n",
    "def generate_synthetic_data(n_samples=10000):\n",
    "    np.random.seed(42)\n",
    "    data = {\n",
    "        'transaction_id': [f'trans_{i}' for i in range(n_samples)],\n",
    "        'ip_address': [f'192.168.{i%255}.{i%255}' for i in range(n_samples)],\n",
    "        'transaction_amount': np.random.uniform(1, 1000, n_samples),\n",
    "        'transaction_type': np.random.choice(['type1', 'type2', 'type3'], n_samples),\n",
    "        'is_fraud': np.random.choice([0, 1], n_samples, p=[0.95, 0.05]),\n",
    "        'transaction_date': generate_random_dates(n_samples),\n",
    "        'user_name': [fake.user_name() for _ in range(n_samples)]\n",
    "    }\n",
    "    df = pd.DataFrame(data)\n",
    "    return df\n"
   ]
  },
  {
   "cell_type": "code",
   "execution_count": 6,
   "id": "82a5b64b-236a-4490-8f83-7baafc482e9e",
   "metadata": {},
   "outputs": [],
   "source": [
    "# Cell 6: Generate synthetic data\n",
    "df = generate_synthetic_data(n_samples=10000)"
   ]
  },
  {
   "cell_type": "code",
   "execution_count": 7,
   "id": "31a7a2df-559b-468a-9166-615de9f07023",
   "metadata": {},
   "outputs": [],
   "source": [
    "# Cell 7: Anonymize IP addresses by hashing\n",
    "df['ip_address_hashed'] = df['ip_address'].apply(hash_ip)"
   ]
  },
  {
   "cell_type": "code",
   "execution_count": 8,
   "id": "d1eac955-4aa7-4b69-aae0-db8b9e2e6a62",
   "metadata": {},
   "outputs": [],
   "source": [
    "# Cell 8: Convert transaction IDs into numeric categorical values\n",
    "le = LabelEncoder()\n",
    "df['transaction_id_encoded'] = le.fit_transform(df['transaction_id'])"
   ]
  },
  {
   "cell_type": "code",
   "execution_count": 9,
   "id": "9e28ce5b-514f-47b3-af41-769b8af6de1d",
   "metadata": {},
   "outputs": [],
   "source": [
    "# Cell 9: Convert transaction_type to numeric categories\n",
    "df['transaction_type'] = df['transaction_type'].astype('category').cat.codes"
   ]
  },
  {
   "cell_type": "code",
   "execution_count": 10,
   "id": "5cc81190-9c8f-4c32-a165-1ca69689e4b5",
   "metadata": {},
   "outputs": [],
   "source": [
    "# Cell 10: Define feature set and target variable\n",
    "X = df[['transaction_amount', 'transaction_type', 'ip_address_hashed', 'transaction_id_encoded']]\n",
    "y = df['is_fraud']"
   ]
  },
  {
   "cell_type": "code",
   "execution_count": 11,
   "id": "48924e86-5e07-45dd-bda5-8f44e20cbb98",
   "metadata": {},
   "outputs": [],
   "source": [
    "# Cell 11: Split the data into training and testing sets\n",
    "X_train, X_test, y_train, y_test = train_test_split(X, y, test_size=0.2, random_state=42)"
   ]
  },
  {
   "cell_type": "code",
   "execution_count": 12,
   "id": "febce9e4-9fc9-4f65-a102-ec878a16d1de",
   "metadata": {},
   "outputs": [
    {
     "data": {
      "text/html": [
       "<div>\n",
       "<style scoped>\n",
       "    .dataframe tbody tr th:only-of-type {\n",
       "        vertical-align: middle;\n",
       "    }\n",
       "\n",
       "    .dataframe tbody tr th {\n",
       "        vertical-align: top;\n",
       "    }\n",
       "\n",
       "    .dataframe thead th {\n",
       "        text-align: right;\n",
       "    }\n",
       "</style>\n",
       "<table border=\"1\" class=\"dataframe\">\n",
       "  <thead>\n",
       "    <tr style=\"text-align: right;\">\n",
       "      <th></th>\n",
       "      <th>transaction_id</th>\n",
       "      <th>ip_address</th>\n",
       "      <th>transaction_amount</th>\n",
       "      <th>transaction_type</th>\n",
       "      <th>is_fraud</th>\n",
       "      <th>transaction_date</th>\n",
       "      <th>user_name</th>\n",
       "      <th>ip_address_hashed</th>\n",
       "      <th>transaction_id_encoded</th>\n",
       "    </tr>\n",
       "  </thead>\n",
       "  <tbody>\n",
       "    <tr>\n",
       "      <th>0</th>\n",
       "      <td>trans_0</td>\n",
       "      <td>192.168.0.0</td>\n",
       "      <td>375.165579</td>\n",
       "      <td>2</td>\n",
       "      <td>0</td>\n",
       "      <td>2023-05-05 05:10:14.071476894</td>\n",
       "      <td>ginabartlett</td>\n",
       "      <td>43078112</td>\n",
       "      <td>0</td>\n",
       "    </tr>\n",
       "    <tr>\n",
       "      <th>1</th>\n",
       "      <td>trans_1</td>\n",
       "      <td>192.168.1.1</td>\n",
       "      <td>950.763592</td>\n",
       "      <td>1</td>\n",
       "      <td>0</td>\n",
       "      <td>2023-02-05 23:41:03.773242731</td>\n",
       "      <td>summerscott</td>\n",
       "      <td>74092172</td>\n",
       "      <td>1</td>\n",
       "    </tr>\n",
       "    <tr>\n",
       "      <th>2</th>\n",
       "      <td>trans_2</td>\n",
       "      <td>192.168.2.2</td>\n",
       "      <td>732.261948</td>\n",
       "      <td>0</td>\n",
       "      <td>0</td>\n",
       "      <td>2023-07-29 17:35:58.210576940</td>\n",
       "      <td>harrismichele</td>\n",
       "      <td>65634861</td>\n",
       "      <td>1112</td>\n",
       "    </tr>\n",
       "    <tr>\n",
       "      <th>3</th>\n",
       "      <td>trans_3</td>\n",
       "      <td>192.168.3.3</td>\n",
       "      <td>599.059826</td>\n",
       "      <td>1</td>\n",
       "      <td>0</td>\n",
       "      <td>2023-06-12 22:15:25.779562098</td>\n",
       "      <td>joshuabowman</td>\n",
       "      <td>23266523</td>\n",
       "      <td>2223</td>\n",
       "    </tr>\n",
       "    <tr>\n",
       "      <th>4</th>\n",
       "      <td>trans_4</td>\n",
       "      <td>192.168.4.4</td>\n",
       "      <td>156.862622</td>\n",
       "      <td>2</td>\n",
       "      <td>0</td>\n",
       "      <td>2023-04-23 02:06:10.866457952</td>\n",
       "      <td>chavezdavid</td>\n",
       "      <td>7828882</td>\n",
       "      <td>3334</td>\n",
       "    </tr>\n",
       "  </tbody>\n",
       "</table>\n",
       "</div>"
      ],
      "text/plain": [
       "  transaction_id   ip_address  transaction_amount  transaction_type  is_fraud  \\\n",
       "0        trans_0  192.168.0.0          375.165579                 2         0   \n",
       "1        trans_1  192.168.1.1          950.763592                 1         0   \n",
       "2        trans_2  192.168.2.2          732.261948                 0         0   \n",
       "3        trans_3  192.168.3.3          599.059826                 1         0   \n",
       "4        trans_4  192.168.4.4          156.862622                 2         0   \n",
       "\n",
       "               transaction_date      user_name  ip_address_hashed  \\\n",
       "0 2023-05-05 05:10:14.071476894   ginabartlett           43078112   \n",
       "1 2023-02-05 23:41:03.773242731    summerscott           74092172   \n",
       "2 2023-07-29 17:35:58.210576940  harrismichele           65634861   \n",
       "3 2023-06-12 22:15:25.779562098   joshuabowman           23266523   \n",
       "4 2023-04-23 02:06:10.866457952    chavezdavid            7828882   \n",
       "\n",
       "   transaction_id_encoded  \n",
       "0                       0  \n",
       "1                       1  \n",
       "2                    1112  \n",
       "3                    2223  \n",
       "4                    3334  "
      ]
     },
     "execution_count": 12,
     "metadata": {},
     "output_type": "execute_result"
    }
   ],
   "source": [
    "\n",
    "# Cell 12: View the first few rows of the dataframe (optional)\n",
    "df.head()\n"
   ]
  },
  {
   "cell_type": "code",
   "execution_count": 13,
   "id": "041ed0e0-c538-4c0d-8caa-f42347a60cee",
   "metadata": {},
   "outputs": [],
   "source": [
    "# Cell 13: Define the FraudDetectionSystem class\n",
    "class FraudDetectionSystem:\n",
    "    def __init__(self):\n",
    "        \"\"\"Initialize the fraud detection system with multiple models\"\"\"\n",
    "        self.rf_model = None\n",
    "        self.xgb_model = None\n",
    "        self.lgbm_model = None\n",
    "        self.isolation_forest = None\n",
    "        self.neural_network = None\n",
    "        self.scaler = StandardScaler()\n",
    "\n",
    "    def train_models(self, X_train, y_train):\n",
    "        print(\"Training Random Forest...\")\n",
    "        self.rf_model = RandomForestClassifier(n_estimators=100, random_state=42)\n",
    "        self.rf_model.fit(X_train, y_train)\n",
    "\n",
    "        print(\"Training XGBoost...\")\n",
    "        self.xgb_model = XGBClassifier(random_state=42)\n",
    "        self.xgb_model.fit(X_train, y_train)\n",
    "\n",
    "        print(\"Training LightGBM...\")\n",
    "        self.lgbm_model = LGBMClassifier(random_state=42)\n",
    "        self.lgbm_model.fit(X_train, y_train)\n",
    "\n",
    "        print(\"Training Isolation Forest...\")\n",
    "        self.isolation_forest = IsolationForest(random_state=42)\n",
    "        self.isolation_forest.fit(X_train)\n",
    "\n",
    "        print(\"Training Neural Network...\")\n",
    "        self.neural_network = self.build_neural_network(X_train.shape[1])\n",
    "        self.neural_network.fit(X_train, y_train, epochs=10, batch_size=32, verbose=0)\n",
    "\n",
    "    def build_neural_network(self, input_dim):\n",
    "        model = keras.Sequential([\n",
    "            keras.layers.Dense(64, activation='relu', input_dim=input_dim),\n",
    "            keras.layers.Dropout(0.3),\n",
    "            keras.layers.Dense(32, activation='relu'),\n",
    "            keras.layers.Dropout(0.2),\n",
    "            keras.layers.Dense(16, activation='relu'),\n",
    "            keras.layers.Dense(1, activation='sigmoid')\n",
    "        ])\n",
    "        model.compile(optimizer='adam', loss='binary_crossentropy', metrics=['accuracy'])\n",
    "        return model\n",
    "\n",
    "    def evaluate_models(self, X_test, y_test):\n",
    "        models = {\n",
    "            'Random Forest': self.rf_model,\n",
    "            'XGBoost': self.xgb_model,\n",
    "            'LightGBM': self.lgbm_model\n",
    "        }\n",
    "\n",
    "        for name, model in models.items():\n",
    "            print(f\"\\n{name} Performance:\")\n",
    "            y_pred = model.predict(X_test)\n",
    "            print(classification_report(y_test, y_pred))\n",
    "\n",
    "            cm = confusion_matrix(y_test, y_pred)\n",
    "            plt.figure(figsize=(8, 6))\n",
    "            sns.heatmap(cm, annot=True, fmt='d', cmap='Blues')\n",
    "            plt.title(f'{name} Confusion Matrix')\n",
    "            plt.ylabel('True Label')\n",
    "            plt.xlabel('Predicted Label')\n",
    "            plt.tight_layout()\n",
    "            plt.show()\n",
    "\n",
    "    def save_models(self, directory):\n",
    "        if not os.path.exists(directory):\n",
    "            os.makedirs(directory)\n",
    "\n",
    "        joblib.dump(self.rf_model, os.path.join(directory, 'random_forest.joblib'))\n",
    "        joblib.dump(self.xgb_model, os.path.join(directory, 'xgboost.joblib'))\n",
    "        joblib.dump(self.lgbm_model, os.path.join(directory, 'lightgbm.joblib'))\n",
    "        \n",
    "        # Save scaler and label encoder for later use in Streamlit app\n",
    "        joblib.dump(self.scaler, os.path.join(directory,'scaler.joblib'))\n",
    "        joblib.dump(le, os.path.join(directory,'label_encoder.joblib'))\n",
    "\n",
    "        # Save neural network model (Keras)\n",
    "        self.neural_network.save(os.path.join(directory,'neural_network.h5'))\n",
    "\n",
    "        print(f\"Models saved to directory: {directory}\")\n",
    "\n"
   ]
  },
  {
   "cell_type": "code",
   "execution_count": 14,
   "id": "e0885361-8e96-48c5-8390-e1b4251d77e5",
   "metadata": {},
   "outputs": [],
   "source": [
    "\n",
    "# Cell 14: Initialize fraud detection system and scale features\n",
    "fraud_detector = FraudDetectionSystem()\n",
    "X_train_scaled = fraud_detector.scaler.fit_transform(X_train)\n",
    "X_test_scaled = fraud_detector.scaler.transform(X_test)\n"
   ]
  },
  {
   "cell_type": "code",
   "execution_count": 15,
   "id": "1909b266-14d0-471f-9ee5-db0ee1e17514",
   "metadata": {},
   "outputs": [
    {
     "name": "stdout",
     "output_type": "stream",
     "text": [
      "Training Random Forest...\n",
      "Training XGBoost...\n",
      "Training LightGBM...\n",
      "[LightGBM] [Info] Number of positive: 435, number of negative: 7565\n",
      "[LightGBM] [Info] Auto-choosing row-wise multi-threading, the overhead of testing was 0.000746 seconds.\n",
      "You can set `force_row_wise=true` to remove the overhead.\n",
      "And if memory is not enough, you can set `force_col_wise=true`.\n",
      "[LightGBM] [Info] Total Bins 766\n",
      "[LightGBM] [Info] Number of data points in the train set: 8000, number of used features: 4\n",
      "[LightGBM] [Info] [binary:BoostFromScore]: pavg=0.054375 -> initscore=-2.855942\n",
      "[LightGBM] [Info] Start training from score -2.855942\n",
      "Training Isolation Forest...\n",
      "Training Neural Network...\n"
     ]
    },
    {
     "name": "stderr",
     "output_type": "stream",
     "text": [
      "C:\\Users\\asus\\AppData\\Local\\Programs\\Python\\Python312\\Lib\\site-packages\\keras\\src\\layers\\core\\dense.py:87: UserWarning: Do not pass an `input_shape`/`input_dim` argument to a layer. When using Sequential models, prefer using an `Input(shape)` object as the first layer in the model instead.\n",
      "  super().__init__(activity_regularizer=activity_regularizer, **kwargs)\n"
     ]
    }
   ],
   "source": [
    "# Cell 15: Train the models \n",
    "fraud_detector.train_models(X_train_scaled,y_train)\n"
   ]
  },
  {
   "cell_type": "code",
   "execution_count": 16,
   "id": "5837edf2-e315-477f-afd1-3d08c9730b5b",
   "metadata": {},
   "outputs": [
    {
     "name": "stdout",
     "output_type": "stream",
     "text": [
      "\n",
      "Random Forest Performance:\n",
      "              precision    recall  f1-score   support\n",
      "\n",
      "           0       0.95      1.00      0.97      1894\n",
      "           1       0.00      0.00      0.00       106\n",
      "\n",
      "    accuracy                           0.95      2000\n",
      "   macro avg       0.47      0.50      0.49      2000\n",
      "weighted avg       0.90      0.95      0.92      2000\n",
      "\n"
     ]
    },
    {
     "name": "stderr",
     "output_type": "stream",
     "text": [
      "C:\\Users\\asus\\AppData\\Local\\Programs\\Python\\Python312\\Lib\\site-packages\\sklearn\\metrics\\_classification.py:1517: UndefinedMetricWarning: Precision is ill-defined and being set to 0.0 in labels with no predicted samples. Use `zero_division` parameter to control this behavior.\n",
      "  _warn_prf(average, modifier, f\"{metric.capitalize()} is\", len(result))\n",
      "C:\\Users\\asus\\AppData\\Local\\Programs\\Python\\Python312\\Lib\\site-packages\\sklearn\\metrics\\_classification.py:1517: UndefinedMetricWarning: Precision is ill-defined and being set to 0.0 in labels with no predicted samples. Use `zero_division` parameter to control this behavior.\n",
      "  _warn_prf(average, modifier, f\"{metric.capitalize()} is\", len(result))\n",
      "C:\\Users\\asus\\AppData\\Local\\Programs\\Python\\Python312\\Lib\\site-packages\\sklearn\\metrics\\_classification.py:1517: UndefinedMetricWarning: Precision is ill-defined and being set to 0.0 in labels with no predicted samples. Use `zero_division` parameter to control this behavior.\n",
      "  _warn_prf(average, modifier, f\"{metric.capitalize()} is\", len(result))\n"
     ]
    },
    {
     "data": {
      "image/png": "[encoded data removed]",
      "text/plain": [
       "<Figure size 800x600 with 2 Axes>"
      ]
     },
     "metadata": {},
     "output_type": "display_data"
    },
    {
     "name": "stdout",
     "output_type": "stream",
     "text": [
      "\n",
      "XGBoost Performance:\n",
      "              precision    recall  f1-score   support\n",
      "\n",
      "           0       0.95      1.00      0.97      1894\n",
      "           1       0.00      0.00      0.00       106\n",
      "\n",
      "    accuracy                           0.94      2000\n",
      "   macro avg       0.47      0.50      0.49      2000\n",
      "weighted avg       0.90      0.94      0.92      2000\n",
      "\n"
     ]
    },
    {
     "data": {
      "image/png": "[encoded data removed]",
      "text/plain": [
       "<Figure size 800x600 with 2 Axes>"
      ]
     },
     "metadata": {},
     "output_type": "display_data"
    },
    {
     "name": "stdout",
     "output_type": "stream",
     "text": [
      "\n",
      "LightGBM Performance:\n",
      "              precision    recall  f1-score   support\n",
      "\n",
      "           0       0.95      1.00      0.97      1894\n",
      "           1       0.00      0.00      0.00       106\n",
      "\n",
      "    accuracy                           0.95      2000\n",
      "   macro avg       0.47      0.50      0.49      2000\n",
      "weighted avg       0.90      0.95      0.92      2000\n",
      "\n"
     ]
    },
    {
     "data": {
      "image/png": "[encoded data removed]",
      "text/plain": [
       "<Figure size 800x600 with 2 Axes>"
      ]
     },
     "metadata": {},
     "output_type": "display_data"
    }
   ],
   "source": [
    "# Cell 16: Evaluate the models on test data \n",
    "fraud_detector.evaluate_models(X_test_scaled,y_test)"
   ]
  },
  {
   "cell_type": "code",
   "execution_count": 17,
   "id": "90aa7647-d99a-4c5e-8db7-34a5ecb7c6f8",
   "metadata": {},
   "outputs": [
    {
     "name": "stderr",
     "output_type": "stream",
     "text": [
      "WARNING:absl:You are saving your model as an HDF5 file via `model.save()` or `keras.saving.save_model(model)`. This file format is considered legacy. We recommend using instead the native Keras format, e.g. `model.save('my_model.keras')` or `keras.saving.save_model(model, 'my_model.keras')`. \n"
     ]
    },
    {
     "name": "stdout",
     "output_type": "stream",
     "text": [
      "Models saved to directory: models\n"
     ]
    }
   ],
   "source": [
    "# Cell 17: Save all models and scalers after training and evaluation \n",
    "fraud_detector.save_models('models')"
   ]
  },
  {
   "cell_type": "code",
   "execution_count": 19,
   "id": "c71bc24c-10ec-4858-a0e9-aedc92d2fedb",
   "metadata": {},
   "outputs": [
    {
     "name": "stdout",
     "output_type": "stream",
     "text": [
      "Random Forest Predictions: [0]\n",
      "XGBoost Predictions: [0]\n",
      "LightGBM Predictions: [0]\n"
     ]
    },
    {
     "name": "stderr",
     "output_type": "stream",
     "text": [
      "C:\\Users\\asus\\AppData\\Local\\Programs\\Python\\Python312\\Lib\\site-packages\\lightgbm\\basic.py:722: UserWarning: Usage of np.ndarray subset (sliced data) is not recommended due to it will double the peak memory cost in LightGBM.\n",
      "  _log_warning(\n"
     ]
    }
   ],
   "source": [
    "# Cell 19: Example prediction using all features\n",
    "# Create a new example input with all four features\n",
    "# Here we use the first row of the scaled test set as an example\n",
    "X_new = X_test_scaled[0].reshape(1, -1)  # Reshape to have a single sample with 4 features\n",
    "\n",
    "# Make predictions using all models\n",
    "rf_predictions = fraud_detector.rf_model.predict(X_new)\n",
    "xgb_predictions = fraud_detector.xgb_model.predict(X_new)\n",
    "lgbm_predictions = fraud_detector.lgbm_model.predict(X_new)\n",
    "\n",
    "print(\"Random Forest Predictions:\", rf_predictions)\n",
    "print(\"XGBoost Predictions:\", xgb_predictions)\n",
    "print(\"LightGBM Predictions:\", lgbm_predictions)"
   ]
  },
  {
   "cell_type": "code",
   "execution_count": null,
   "id": "37d1c3a6-5c40-4e75-929d-afa62c00b207",
   "metadata": {},
   "outputs": [],
   "source": []
  }
 ],
 "metadata": {
  "kernelspec": {
   "display_name": "Python 3 (ipykernel)",
   "language": "python",
   "name": "python3"
  },
  "language_info": {
   "codemirror_mode": {
    "name": "ipython",
    "version": 3
   },
   "file_extension": ".py",
   "mimetype": "text/x-python",
   "name": "python",
   "nbconvert_exporter": "python",
   "pygments_lexer": "ipython3",
   "version": "3.12.3"
  }
 },
 "nbformat": 4,
 "nbformat_minor": 5
}
